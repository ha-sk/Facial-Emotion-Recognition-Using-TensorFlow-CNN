{
 "cells": [
  {
   "cell_type": "markdown",
   "id": "Rsj_oXqgtwKd",
   "metadata": {
    "id": "Rsj_oXqgtwKd"
   },
   "source": [
    "***TESTING THE FACE EMOTION RECOGNITION MODEL USING WEBCAM FEED***\n",
    "\n",
    "---\n",
    "\n"
   ]
  },
  {
   "cell_type": "markdown",
   "id": "AI2EIEuEuPEf",
   "metadata": {
    "id": "AI2EIEuEuPEf"
   },
   "source": [
    "In this part, we will test our model in real-time using face detection."
   ]
  },
  {
   "cell_type": "markdown",
   "id": "Nes_K0Lit84M",
   "metadata": {
    "id": "Nes_K0Lit84M"
   },
   "source": [
    "# 1.Importing the necessary libaries"
   ]
  },
  {
   "cell_type": "code",
   "execution_count": 2,
   "id": "IqlbOlyquLQI",
   "metadata": {
    "id": "IqlbOlyquLQI"
   },
   "outputs": [],
   "source": [
    "import cv2\n",
    "import numpy as np\n",
    "from keras.models import model_from_json\n",
    "from keras.preprocessing import image"
   ]
  },
  {
   "cell_type": "markdown",
   "id": "VJUR-SthuMJ7",
   "metadata": {
    "id": "VJUR-SthuMJ7"
   },
   "source": [
    "# 2.Loading the saved model\n",
    "Let’s start by loading the trained model architecture and weights so that it can be used further to make predictions."
   ]
  },
  {
   "cell_type": "code",
   "execution_count": 3,
   "id": "3RSfc3cvuYvd",
   "metadata": {
    "id": "3RSfc3cvuYvd"
   },
   "outputs": [],
   "source": [
    "# Load model from JSON file\n",
    "json_file = open('fer.json', 'r')\n",
    "loaded_model_json = json_file.read()\n",
    "json_file.close()\n",
    "model = model_from_json(loaded_model_json)\n",
    "\n",
    "# Load weights and them to model\n",
    "model.load_weights('fer.h5')"
   ]
  },
  {
   "cell_type": "markdown",
   "id": "5HuGT_gqueO-",
   "metadata": {
    "id": "5HuGT_gqueO-"
   },
   "source": [
    "# 3.Loading Har-Cascade for Face Detection\n",
    "We are using Haar-cascade for the detection position of faces and after getting position we will crop the faces.\n",
    "\n",
    "haarcascade_frontalface_default can be downloaded using the link https://github.com/opencv/opencv/tree/master/data/haarcascades."
   ]
  },
  {
   "cell_type": "code",
   "execution_count": 4,
   "id": "JHREZF3Huojq",
   "metadata": {
    "id": "JHREZF3Huojq"
   },
   "outputs": [],
   "source": [
    "face_haar_cascade = cv2.CascadeClassifier('haarcascade_frontalface_default.xml')"
   ]
  },
  {
   "cell_type": "markdown",
   "id": "kosePKHwurZJ",
   "metadata": {
    "id": "kosePKHwurZJ"
   },
   "source": [
    "# 4.Read Frames and apply Preprocessing using OpenCV\n",
    "Use OpenCV to read frames and for image processing."
   ]
  },
  {
   "cell_type": "code",
   "execution_count": null,
   "id": "h7n4sXnUu4ft",
   "metadata": {
    "id": "h7n4sXnUu4ft"
   },
   "outputs": [],
   "source": [
    "cap = cv2.VideoCapture(0)\n",
    "\n",
    "while True:\n",
    "    ret, img = cap.read()\n",
    "    if not ret:\n",
    "        break\n",
    "\n",
    "    gray_img = cv2.cvtColor(img, cv2.COLOR_BGR2GRAY)\n",
    "    faces_detected = face_haar_cascade.detectMultiScale(gray_img, 1.1, 6, minSize=(150, 150))\n",
    "\n",
    "    for (x, y, w, h) in faces_detected:\n",
    "        cv2.rectangle(img, (x, y), (x + w, y + h), (0, 255, 0), thickness=2)\n",
    "        roi_gray = gray_img[y:y + w, x:x + h]\n",
    "        roi_gray = cv2.resize(roi_gray, (48, 48))\n",
    "        img_pixels = image.img_to_array(roi_gray)\n",
    "        img_pixels = np.expand_dims(img_pixels, axis=0)\n",
    "        img_pixels /= 255.0\n",
    "\n",
    "        predictions = model.predict(img_pixels)\n",
    "        max_index = int(np.argmax(predictions))\n",
    "\n",
    "        emotions = ['neutral', 'happiness', 'surprise', 'sadness', 'anger', 'disgust', 'fear']\n",
    "        predicted_emotion = emotions[max_index]"
   ]
  },
  {
   "cell_type": "markdown",
   "id": "SQRsadS_u5YR",
   "metadata": {
    "id": "SQRsadS_u5YR"
   },
   "source": [
    "* **predicted_emotion** returns the label of emotion.\n",
    "\n",
    "* Normalize test images by dividing them by 255.\n",
    "\n",
    "* **np.expand_dims** convert a 3D matrix into a 4D tensor.\n",
    "\n",
    "* **(x,y,w,h)** are the coordinates of faces in the input frame.\n",
    "haar_cascade takes only grayscale images."
   ]
  },
  {
   "cell_type": "markdown",
   "id": "BxB6tTfUvUj7",
   "metadata": {
    "id": "BxB6tTfUvUj7"
   },
   "source": [
    "# 5.Adding Overlay\n",
    "Adding an overlay on the output frame and displaying the prediction with confidence gives a better look."
   ]
  },
  {
   "cell_type": "code",
   "execution_count": 5,
   "id": "d63d1e7d",
   "metadata": {
    "id": "d63d1e7d"
   },
   "outputs": [],
   "source": [
    "cap = cv2.VideoCapture(0)\n",
    "\n",
    "while True:\n",
    "    ret, img = cap.read()\n",
    "    if not ret:\n",
    "        break\n",
    "\n",
    "    gray_img = cv2.cvtColor(img, cv2.COLOR_BGR2GRAY)\n",
    "    faces_detected = face_haar_cascade.detectMultiScale(gray_img, 1.1, 6, minSize=(150, 150))\n",
    "\n",
    "    for (x, y, w, h) in faces_detected:\n",
    "        cv2.rectangle(img, (x, y), (x + w, y + h), (0, 255, 0), thickness=2)\n",
    "        roi_gray = gray_img[y:y + w, x:x + h]\n",
    "        roi_gray = cv2.resize(roi_gray, (48, 48))\n",
    "        img_pixels = image.img_to_array(roi_gray)\n",
    "        img_pixels = np.expand_dims(img_pixels, axis=0)\n",
    "        img_pixels /= 255.0\n",
    "\n",
    "        predictions = model.predict(img_pixels)\n",
    "        max_index = int(np.argmax(predictions))\n",
    "\n",
    "        emotions = ['neutral', 'happiness', 'surprise', 'sadness', 'anger', 'disgust', 'fear']\n",
    "        predicted_emotion = emotions[max_index]\n",
    "\n",
    "        cv2.putText(img, predicted_emotion, (int(x), int(y)), cv2.FONT_HERSHEY_SIMPLEX, 0.75, (255, 255, 255), 2)\n",
    "\n",
    "        resized_img = cv2.resize(img, (1000, 700))\n",
    "        cv2.imshow('Facial Emotion Recognition', resized_img)\n",
    "\n",
    "    if cv2.waitKey(1) & 0xFF == ord('q'):\n",
    "        break\n",
    "\n",
    "cap.release()\n",
    "cv2.destroyAllWindows()"
   ]
  },
  {
   "cell_type": "markdown",
   "id": "wzgWznWnvkSi",
   "metadata": {
    "id": "wzgWznWnvkSi"
   },
   "source": [
    "Now run it !!!"
   ]
  },
  {
   "cell_type": "markdown",
   "id": "ImhtmsSGvn8c",
   "metadata": {
    "id": "ImhtmsSGvn8c"
   },
   "source": [
    "# 6.Conclusion\n",
    "We have seen how to preprocess data, design a network that is capable of classifying the emotions, and then use Opencv\n",
    "for the detection of the faces and then pass it for prediction."
   ]
  }
 ],
 "metadata": {
  "colab": {
   "collapsed_sections": [],
   "name": "webcamTest.ipynb",
   "provenance": []
  },
  "kernelspec": {
   "display_name": "Python 3 (ipykernel)",
   "language": "python",
   "name": "python3"
  },
  "language_info": {
   "codemirror_mode": {
    "name": "ipython",
    "version": 3
   },
   "file_extension": ".py",
   "mimetype": "text/x-python",
   "name": "python",
   "nbconvert_exporter": "python",
   "pygments_lexer": "ipython3",
   "version": "3.9.7"
  }
 },
 "nbformat": 4,
 "nbformat_minor": 5
}
